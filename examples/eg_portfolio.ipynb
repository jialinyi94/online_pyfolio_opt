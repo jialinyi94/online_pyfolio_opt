{
 "cells": [
  {
   "cell_type": "markdown",
   "metadata": {},
   "source": [
    "# Train a online portfolio"
   ]
  },
  {
   "cell_type": "code",
   "execution_count": 86,
   "metadata": {},
   "outputs": [],
   "source": [
    "import jax.numpy as jnp\n",
    "import jax\n",
    "import optax\n",
    "import polars as pl\n",
    "import polars.selectors as cs\n",
    "\n",
    "from pyfoliopt.loss import neg_logdot_loss"
   ]
  },
  {
   "cell_type": "code",
   "execution_count": null,
   "metadata": {},
   "outputs": [],
   "source": [
    "import pandas as pd\n",
    "import yfinance as yf\n",
    "\n",
    "data: pd.DataFrame = yf.download(\"BTC-USD ETH-USD\", start=\"2018-01-01\", end=\"2019-01-01\")[\"Close\"].dropna()"
   ]
  },
  {
   "cell_type": "code",
   "execution_count": null,
   "metadata": {},
   "outputs": [],
   "source": [
    "data.plot(grid=True, subplots=True)"
   ]
  },
  {
   "cell_type": "code",
   "execution_count": null,
   "metadata": {},
   "outputs": [],
   "source": [
    "df_prices = pl.from_dataframe(data.reset_index()) \n",
    "df_prices"
   ]
  },
  {
   "cell_type": "code",
   "execution_count": null,
   "metadata": {},
   "outputs": [],
   "source": [
    "df_returns = (\n",
    "    df_prices\n",
    "    .select(\n",
    "        cs.datetime(),\n",
    "        pl.col(\"BTC-USD\").pct_change().alias(\"BTC-USD_long\"),\n",
    "        pl.col(\"ETH-USD\").pct_change().mul(-1).alias(\"ETH-USD_short\")\n",
    "    )\n",
    ")\n",
    "df_returns"
   ]
  },
  {
   "cell_type": "code",
   "execution_count": null,
   "metadata": {},
   "outputs": [],
   "source": [
    "(\n",
    "    df_returns\n",
    "    .with_columns(\n",
    "        CRP = pl.col(\"BTC-USD_long\") * 0.5 + pl.col(\"ETH-USD_short\") * 0.5,\n",
    "    )\n",
    "    .select(cs.datetime(), cs.numeric().add(1).cum_prod())\n",
    "    .to_pandas()\n",
    "    .set_index(\"Date\")\n",
    "    .plot(grid=True)\n",
    ")"
   ]
  },
  {
   "cell_type": "code",
   "execution_count": null,
   "metadata": {},
   "outputs": [],
   "source": []
  }
 ],
 "metadata": {
  "kernelspec": {
   "display_name": "jax_cpu",
   "language": "python",
   "name": "python3"
  },
  "language_info": {
   "codemirror_mode": {
    "name": "ipython",
    "version": 3
   },
   "file_extension": ".py",
   "mimetype": "text/x-python",
   "name": "python",
   "nbconvert_exporter": "python",
   "pygments_lexer": "ipython3",
   "version": "3.12.7"
  }
 },
 "nbformat": 4,
 "nbformat_minor": 2
}
